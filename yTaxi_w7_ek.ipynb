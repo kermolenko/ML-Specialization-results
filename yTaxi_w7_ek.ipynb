{
 "cells": [
  {
   "cell_type": "markdown",
   "metadata": {},
   "source": [
    "# Оформление проекта"
   ]
  },
  {
   "cell_type": "code",
   "execution_count": 54,
   "metadata": {},
   "outputs": [],
   "source": [
    "#import libraries\n",
    "import pandas as pd\n",
    "import numpy as np\n",
    "from scipy import stats\n",
    "import itertools\n",
    "from datetime import datetime\n",
    "import matplotlib.pyplot as plt\n",
    "from matplotlib import cm\n",
    "%matplotlib inline\n",
    "from matplotlib.colors import PowerNorm, ListedColormap, LogNorm, to_hex\n",
    "import folium\n",
    "# define New York area\n",
    "ny_long_s=-74.25559\n",
    "ny_long_f=-73.70001\n",
    "ny_lat_s=40.49612\n",
    "ny_lat_f=40.91553\n",
    "ny_range=[[ny_long_s,ny_long_f],[ny_lat_s,ny_lat_f]]"
   ]
  },
  {
   "cell_type": "markdown",
   "metadata": {},
   "source": [
    " ##  Кратко о результатах"
   ]
  },
  {
   "cell_type": "markdown",
   "metadata": {},
   "source": [
    "В рамках проекта были рассмотрены следующие модели:\n",
    "- SARIMAX\n",
    "- Линейная регрессия\n",
    "- Случайный лес без дополнительных признаков\n",
    "- Случайный лес с дополнительными признаками\n",
    "\n",
    "Лучший результат показала модель \"Случайный лес без дополнительных признаков\" (ошибка - 22.46284). Рассмотрим результаты подробнее"
   ]
  },
  {
   "cell_type": "code",
   "execution_count": 119,
   "metadata": {},
   "outputs": [
    {
     "data": {
      "text/html": [
       "<div>\n",
       "<style scoped>\n",
       "    .dataframe tbody tr th:only-of-type {\n",
       "        vertical-align: middle;\n",
       "    }\n",
       "\n",
       "    .dataframe tbody tr th {\n",
       "        vertical-align: top;\n",
       "    }\n",
       "\n",
       "    .dataframe thead th {\n",
       "        text-align: right;\n",
       "    }\n",
       "</style>\n",
       "<table border=\"1\" class=\"dataframe\">\n",
       "  <thead>\n",
       "    <tr style=\"text-align: right;\">\n",
       "      <th></th>\n",
       "      <th>region</th>\n",
       "      <th>rides</th>\n",
       "      <th>result</th>\n",
       "      <th>west</th>\n",
       "      <th>east</th>\n",
       "      <th>south</th>\n",
       "      <th>north</th>\n",
       "      <th>err</th>\n",
       "    </tr>\n",
       "    <tr>\n",
       "      <th>datehours</th>\n",
       "      <th></th>\n",
       "      <th></th>\n",
       "      <th></th>\n",
       "      <th></th>\n",
       "      <th></th>\n",
       "      <th></th>\n",
       "      <th></th>\n",
       "      <th></th>\n",
       "    </tr>\n",
       "  </thead>\n",
       "  <tbody>\n",
       "    <tr>\n",
       "      <th>2016-06-01 00:00:00</th>\n",
       "      <td>1075</td>\n",
       "      <td>26.0</td>\n",
       "      <td>49.865310</td>\n",
       "      <td>-74.022246</td>\n",
       "      <td>-74.011135</td>\n",
       "      <td>40.697437</td>\n",
       "      <td>40.705825</td>\n",
       "      <td>23.865310</td>\n",
       "    </tr>\n",
       "    <tr>\n",
       "      <th>2016-06-01 01:00:00</th>\n",
       "      <td>1075</td>\n",
       "      <td>14.0</td>\n",
       "      <td>16.273313</td>\n",
       "      <td>-74.022246</td>\n",
       "      <td>-74.011135</td>\n",
       "      <td>40.697437</td>\n",
       "      <td>40.705825</td>\n",
       "      <td>2.273313</td>\n",
       "    </tr>\n",
       "    <tr>\n",
       "      <th>2016-06-01 02:00:00</th>\n",
       "      <td>1075</td>\n",
       "      <td>5.0</td>\n",
       "      <td>16.273313</td>\n",
       "      <td>-74.022246</td>\n",
       "      <td>-74.011135</td>\n",
       "      <td>40.697437</td>\n",
       "      <td>40.705825</td>\n",
       "      <td>11.273313</td>\n",
       "    </tr>\n",
       "    <tr>\n",
       "      <th>2016-06-01 03:00:00</th>\n",
       "      <td>1075</td>\n",
       "      <td>2.0</td>\n",
       "      <td>16.273313</td>\n",
       "      <td>-74.022246</td>\n",
       "      <td>-74.011135</td>\n",
       "      <td>40.697437</td>\n",
       "      <td>40.705825</td>\n",
       "      <td>14.273313</td>\n",
       "    </tr>\n",
       "    <tr>\n",
       "      <th>2016-06-01 04:00:00</th>\n",
       "      <td>1075</td>\n",
       "      <td>1.0</td>\n",
       "      <td>16.273313</td>\n",
       "      <td>-74.022246</td>\n",
       "      <td>-74.011135</td>\n",
       "      <td>40.697437</td>\n",
       "      <td>40.705825</td>\n",
       "      <td>15.273313</td>\n",
       "    </tr>\n",
       "  </tbody>\n",
       "</table>\n",
       "</div>"
      ],
      "text/plain": [
       "                     region  rides     result       west       east  \\\n",
       "datehours                                                             \n",
       "2016-06-01 00:00:00    1075   26.0  49.865310 -74.022246 -74.011135   \n",
       "2016-06-01 01:00:00    1075   14.0  16.273313 -74.022246 -74.011135   \n",
       "2016-06-01 02:00:00    1075    5.0  16.273313 -74.022246 -74.011135   \n",
       "2016-06-01 03:00:00    1075    2.0  16.273313 -74.022246 -74.011135   \n",
       "2016-06-01 04:00:00    1075    1.0  16.273313 -74.022246 -74.011135   \n",
       "\n",
       "                         south      north        err  \n",
       "datehours                                             \n",
       "2016-06-01 00:00:00  40.697437  40.705825  23.865310  \n",
       "2016-06-01 01:00:00  40.697437  40.705825   2.273313  \n",
       "2016-06-01 02:00:00  40.697437  40.705825  11.273313  \n",
       "2016-06-01 03:00:00  40.697437  40.705825  14.273313  \n",
       "2016-06-01 04:00:00  40.697437  40.705825  15.273313  "
      ]
     },
     "execution_count": 119,
     "metadata": {},
     "output_type": "execute_result"
    }
   ],
   "source": [
    "results=pd.read_csv('/Users/kirill/YellowTaxi/yTaxi_best_results.csv',\n",
    "                    parse_dates=[0],\n",
    "                    infer_datetime_format=True,\n",
    "                    sep=',')\n",
    "regions=pd.read_csv('/Users/kirill/YellowTaxi/regions.csv',\n",
    "                    infer_datetime_format=True,\n",
    "                    sep=';')\n",
    "results['region']=results.region.map(int)\n",
    "results=results.merge(regions).set_index('datehours')\n",
    "results['err']=np.abs(results.result-results.rides)\n",
    "results.head()"
   ]
  },
  {
   "cell_type": "markdown",
   "metadata": {},
   "source": [
    "## Визуализация прогоноза для каждой зоны"
   ]
  },
  {
   "cell_type": "markdown",
   "metadata": {},
   "source": [
    "Построим виджет с прогнозом для каждой зоны"
   ]
  },
  {
   "cell_type": "code",
   "execution_count": 135,
   "metadata": {},
   "outputs": [
    {
     "data": {
      "application/vnd.jupyter.widget-view+json": {
       "model_id": "c6d74e109ca44915b999c1de0a9c8a3c",
       "version_major": 2,
       "version_minor": 0
      },
      "text/html": [
       "<p>Failed to display Jupyter Widget of type <code>interactive</code>.</p>\n",
       "<p>\n",
       "  If you're reading this message in the Jupyter Notebook or JupyterLab Notebook, it may mean\n",
       "  that the widgets JavaScript is still loading. If this message persists, it\n",
       "  likely means that the widgets JavaScript library is either not installed or\n",
       "  not enabled. See the <a href=\"https://ipywidgets.readthedocs.io/en/stable/user_install.html\">Jupyter\n",
       "  Widgets Documentation</a> for setup instructions.\n",
       "</p>\n",
       "<p>\n",
       "  If you're reading this message in another frontend (for example, a static\n",
       "  rendering on GitHub or <a href=\"https://nbviewer.jupyter.org/\">NBViewer</a>),\n",
       "  it may mean that your frontend doesn't currently support widgets.\n",
       "</p>\n"
      ],
      "text/plain": [
       "interactive(children=(Dropdown(description='reg', options=(1075, 1076, 1077, 1125, 1126, 1127, 1128, 1129, 1130, 1131, 1132, 1172, 1173, 1174, 1175, 1176, 1177, 1178, 1179, 1180, 1181, 1182, 1183, 1184, 1221, 1222, 1223, 1224, 1225, 1227, 1228, 1229, 1230, 1231, 1232, 1233, 1234, 1235, 1272, 1273, 1274, 1278, 1279, 1280, 1281, 1282, 1283, 1284, 1285, 1286, 1287, 1326, 1327, 1331, 1332, 1333, 1334, 1335, 1336, 1337, 1338, 1339, 1376, 1377, 1378, 1380, 1382, 1383, 1384, 1385, 1386, 1387, 1388, 1389, 1390, 1426, 1431, 1434, 1435, 1436, 1437, 1438, 1439, 1441, 1442, 1480, 1482, 1483, 1530, 1532, 1533, 1580, 1630, 1684, 1733, 1734, 1783, 2068, 2069, 2118, 2119, 2168), value=1075), Output()), _dom_classes=('widget-interact',))"
      ]
     },
     "metadata": {},
     "output_type": "display_data"
    },
    {
     "data": {
      "text/plain": [
       "<function __main__.plt_results>"
      ]
     },
     "execution_count": 135,
     "metadata": {},
     "output_type": "execute_result"
    }
   ],
   "source": [
    "\n",
    "from ipywidgets import interact, interactive, fixed, interact_manual\n",
    "import ipywidgets as widgets\n",
    "\n",
    "import matplotlib.pyplot as plt\n",
    "%matplotlib inline\n",
    "\n",
    "import numpy as np\n",
    "\n",
    "def plt_results(reg):\n",
    "    results[results.region==reg][['rides','result']].plot(figsize=(20,10),title='Region {}. Forecst vs Fact'.format(reg))\n",
    "    results[results.region==reg][['err']].plot(figsize=(20,7),title='Region {}. Absolute Error'.format(reg))\n",
    "    plt.show()\n",
    "    print('MAE= {}'.format(results[results.region==reg][['err']].mean()))\n",
    "    \n",
    "interact(plt_results,reg=results.region.unique())"
   ]
  },
  {
   "cell_type": "markdown",
   "metadata": {},
   "source": [
    "## Отображение реального и прогнозируемого спроса на карте в каждый момент времени"
   ]
  },
  {
   "cell_type": "markdown",
   "metadata": {},
   "source": [
    "Построим визуализацию реального и прогнозирумого прогноза спроса на такси в каждый момент времени за июнь 2016 года c помощью библиотеки follium"
   ]
  },
  {
   "cell_type": "code",
   "execution_count": 137,
   "metadata": {
    "scrolled": false
   },
   "outputs": [
    {
     "data": {
      "application/vnd.jupyter.widget-view+json": {
       "model_id": "e6947fab6ce943649155b2f1689ce977",
       "version_major": 2,
       "version_minor": 0
      },
      "text/html": [
       "<p>Failed to display Jupyter Widget of type <code>interactive</code>.</p>\n",
       "<p>\n",
       "  If you're reading this message in the Jupyter Notebook or JupyterLab Notebook, it may mean\n",
       "  that the widgets JavaScript is still loading. If this message persists, it\n",
       "  likely means that the widgets JavaScript library is either not installed or\n",
       "  not enabled. See the <a href=\"https://ipywidgets.readthedocs.io/en/stable/user_install.html\">Jupyter\n",
       "  Widgets Documentation</a> for setup instructions.\n",
       "</p>\n",
       "<p>\n",
       "  If you're reading this message in another frontend (for example, a static\n",
       "  rendering on GitHub or <a href=\"https://nbviewer.jupyter.org/\">NBViewer</a>),\n",
       "  it may mean that your frontend doesn't currently support widgets.\n",
       "</p>\n"
      ],
      "text/plain": [
       "interactive(children=(SelectionSlider(description='day', options=(1, 2, 3, 4, 5, 6, 7, 8, 9, 10, 11, 12, 13, 14, 15, 16, 17, 18, 19, 20, 21, 22, 23, 24, 25, 26, 27, 28, 29, 30), value=1), SelectionSlider(description='hour', options=(0, 1, 2, 3, 4, 5, 6, 7, 8, 9, 10, 11, 12, 13, 14, 15, 16, 17, 18, 19, 20, 21, 22, 23), value=0), Dropdown(description='values', options=('rides', 'result', 'err'), value='rides'), Output()), _dom_classes=('widget-interact',))"
      ]
     },
     "metadata": {},
     "output_type": "display_data"
    },
    {
     "data": {
      "text/plain": [
       "<function __main__.print_date>"
      ]
     },
     "execution_count": 137,
     "metadata": {},
     "output_type": "execute_result"
    }
   ],
   "source": [
    "\n",
    "def print_date(day,hour,values):\n",
    "    to_show=results[(results.index.day==day) &\n",
    "                    (results.index.hour==hour)]\n",
    "        \n",
    "    cm_norm =LogNorm(vmin = to_show[values].min()+1, vmax = to_show[values].max(),clip=True)\n",
    "    cmap = plt.get_cmap('seismic',7)\n",
    "\n",
    "    def style_function(x):\n",
    "                rides = x['properties'][values]\n",
    "                return {\n",
    "                    'weight': 1,\n",
    "                    'opacity': 0.25,\n",
    "                    'color': '#e0dddd',\n",
    "                    'fillOpacity': 0.3 if rides>0 else 0,\n",
    "                    'fillColor': to_hex( cmap(cm_norm(rides))) if rides>0 else '#ffffff',\n",
    "                    'tooltip':\"toto\",\n",
    "                    'title': rides\n",
    "                }\n",
    "    def highlight_function(x):\n",
    "                return {\n",
    "                    'weight':  1,\n",
    "                    'fillOpacity': .8\n",
    "                }\n",
    "\n",
    "\n",
    "    \n",
    "    m_ = folium.Map(location=[40.74844, -73.985664],tiles='Stamen Toner',zoom_start=10.5) # center at ESB\n",
    "    \n",
    "   \n",
    "    gdf_yt_f = gpd.GeoDataFrame(to_show[values],geometry = [shg.box(x[4],x[7],x[5],x[6])\n",
    "                                                  for x in to_show.itertuples()])\n",
    "    gdf_yt_f.crs = {'init' :'epsg:4326'}\n",
    "\n",
    "    folium.GeoJson(gdf_yt_f,style_function= style_function,highlight_function=highlight_function).add_to(m_)\n",
    "\n",
    "    return m_\n",
    "    \n",
    "interact(print_date,day=SelectionSlider(description='day',options=results.index.day.unique()),\n",
    "                    hour=SelectionSlider(description='hour',options=results.index.hour.unique()),\n",
    "                    values=['rides','result','err'])"
   ]
  },
  {
   "cell_type": "markdown",
   "metadata": {},
   "source": [
    "## Выводы"
   ]
  },
  {
   "cell_type": "markdown",
   "metadata": {},
   "source": [
    "Анализ результатов показал, что модель есть куда улучшать:\n",
    " * Есть зоны, где модель просто прогнозирует среднее значение на весь месяц\n",
    " * Есть зоны со специальными событиями, которые не были учтены в модели\n",
    " \n",
    "Довольно странно, что модель без специальных признаков дает лучший результат. Возможно стоило подойти к построению признаков более аккуратно.\n",
    "\n",
    "В целом, было познавательно и увлекательно. Спасибо огромное за время потраченное на проверку работы!"
   ]
  }
 ],
 "metadata": {
  "kernelspec": {
   "display_name": "Python [conda root]",
   "language": "python",
   "name": "conda-root-py"
  },
  "language_info": {
   "codemirror_mode": {
    "name": "ipython",
    "version": 3
   },
   "file_extension": ".py",
   "mimetype": "text/x-python",
   "name": "python",
   "nbconvert_exporter": "python",
   "pygments_lexer": "ipython3",
   "version": "3.5.4"
  }
 },
 "nbformat": 4,
 "nbformat_minor": 2
}
